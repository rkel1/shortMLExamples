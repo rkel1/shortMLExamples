{
 "cells": [
  {
   "cell_type": "markdown",
   "metadata": {},
   "source": [
    "# Social Network Analysis using ML\n",
    "\n",
    "This script is based on an assignment given in the 'Python for Social Network Analysis' course on Coursera.\n",
    "\n",
    "\n",
    "**Note: requires networkx version 1.11 (not the more recent networkX 2.0) - can run `pip install networkx==1.11` to downgrade**"
   ]
  },
  {
   "cell_type": "code",
   "execution_count": 1,
   "metadata": {},
   "outputs": [],
   "source": [
    "import networkx as nx\n",
    "import pandas as pd\n",
    "import numpy as np\n",
    "import pickle\n",
    "\n",
    "# !pip install networkx==1.11"
   ]
  },
  {
   "cell_type": "markdown",
   "metadata": {},
   "source": [
    "---\n",
    "\n",
    "## Company Emails\n",
    "\n",
    "We are working with a company's email network where each node corresponds to a person at the company, and each edge indicates that at least one email has been sent between two people.\n",
    "\n",
    "The network also contains the node attributes `Department` and `ManagementSalary`.\n",
    "\n",
    "`Department` indicates the department in the company which the person belongs to, and `ManagementSalary` indicates whether that person is receiving a management position salary."
   ]
  },
  {
   "cell_type": "code",
   "execution_count": 2,
   "metadata": {},
   "outputs": [
    {
     "name": "stdout",
     "output_type": "stream",
     "text": [
      "Name: \n",
      "Type: Graph\n",
      "Number of nodes: 1005\n",
      "Number of edges: 16706\n",
      "Average degree:  33.2458\n"
     ]
    }
   ],
   "source": [
    "G = nx.read_gpickle('email_prediction.txt')\n",
    "\n",
    "print(nx.info(G))"
   ]
  },
  {
   "cell_type": "markdown",
   "metadata": {},
   "source": [
    "### Part A - Salary Prediction\n",
    "\n",
    "Using network `G`, we identify the people in the network with missing values for the node attribute `ManagementSalary` and predict whether or not these individuals are receiving a management position salary.\n",
    "\n",
    "To accomplish this, we create a matrix of node features using networkx, train a sklearn classifier on nodes that have `ManagementSalary` data, and predict a probability of the node receiving a management salary for nodes where `ManagementSalary` is missing.\n",
    "\n",
    "\n",
    "\n",
    "The predictions are given as the probability that the corresponding employee is receiving a management position salary.\n",
    "\n",
    "The evaluation metric is the Area Under the ROC Curve (AUC). A model which with an AUC of 0.80 or higher is deemed satisfactory.\n",
    "\n",
    "Using the trained classifier, we return a series of length 252 with the data being the probability of receiving management salary, and the index being the node id.\n",
    "\n",
    "    Example:\n",
    "    \n",
    "        1       1.0\n",
    "        2       0.0\n",
    "        5       0.8\n",
    "        8       1.0\n",
    "            ...\n",
    "        996     0.7\n",
    "        1000    0.5\n",
    "        1001    0.0\n",
    "        Length: 252, dtype: float64"
   ]
  },
  {
   "cell_type": "code",
   "execution_count": 3,
   "metadata": {},
   "outputs": [
    {
     "name": "stdout",
     "output_type": "stream",
     "text": [
      "Best alpha: 1.0\n",
      "Training set score: 86.4%\n"
     ]
    }
   ],
   "source": [
    "def salary_predictions():\n",
    "    \n",
    "    from sklearn.linear_model import Lasso, Ridge\n",
    "    from sklearn.model_selection import GridSearchCV\n",
    "    from sklearn.model_selection import train_test_split\n",
    "    from sklearn.preprocessing import MinMaxScaler\n",
    "    from sklearn.metrics import roc_auc_score\n",
    "\n",
    "    # create dataframe of nodes\n",
    "    df = pd.DataFrame(index=G.nodes())\n",
    "    df['Department']        = pd.Series(nx.get_node_attributes(G,      'Department'))\n",
    "    df['ManagementSalary']  = pd.Series(nx.get_node_attributes(G,'ManagementSalary'))\n",
    "    df['Degree']            = pd.Series(G.degree())\n",
    "    df['Degree Centrality'] = pd.Series(nx.degree_centrality(G))\n",
    "    df['Close Centrality']  = pd.Series(nx.closeness_centrality(G))\n",
    "    df['Betw Centrality']   = pd.Series(nx.betweenness_centrality(G))\n",
    "    df['Clustering']        = pd.Series(nx.clustering(G))\n",
    "\n",
    "    # train the model using the non-null management salary part of dataframe\n",
    "    df_no_nan = pd.DataFrame(index=df[~df.ManagementSalary.isnull()].index)\n",
    "    df_no_nan = df[~df.ManagementSalary.isnull()]\n",
    "    X = df_no_nan.drop('ManagementSalary',axis=1)\n",
    "    y = df_no_nan['ManagementSalary']\n",
    "    \n",
    "    # split into training and test sets\n",
    "    X_train, X_test, y_train, y_test = train_test_split(X, y, random_state=0)\n",
    "\n",
    "    # normalise\n",
    "    scaler = MinMaxScaler()\n",
    "    X_train_scaled = scaler.fit_transform(X_train)\n",
    "    X_test_scaled  = scaler.transform(X_test)\n",
    "\n",
    "    # create ML model - use ridge\n",
    "    rgr = Ridge()\n",
    "    \n",
    "    # test for the best value of the regularisation parameter alpha\n",
    "    param_grid = {'alpha':(0.2, 0.4, 0.6, 0.8, 1.0)}\n",
    "    grid_rgr = GridSearchCV(rgr,scoring='roc_auc',param_grid=param_grid)\n",
    "    grid_rgr.fit(X_train_scaled,y_train)\n",
    "\n",
    "    best_alpha = list(grid_rgr.best_params_.values())[0]\n",
    "\n",
    "    print('Best alpha:',best_alpha)\n",
    "\n",
    "    rgr = Ridge(alpha=best_alpha).fit(X_train_scaled,y_train)\n",
    "\n",
    "    # calculate and report the score using the training set\n",
    "    y_pred = rgr.predict(X_test_scaled)\n",
    "    score = roc_auc_score(y_test,y_pred)\n",
    "    print('Training set score: {0:.1f}%'.format(100*score))\n",
    "\n",
    "    # Re-run on whole dataset to predict null values:\n",
    "    # find the null values, assign to new dataframe\n",
    "    df_assign = df[df['ManagementSalary'].isnull()]\n",
    "\n",
    "    # Perform the predictions\n",
    "    X_assign = df_assign.drop('ManagementSalary',axis=1)\n",
    "    X_assign_scaled = scaler.transform(X_assign)\n",
    "    y_assign_pred = pd.Series(index=df_assign.index,data=rgr.predict(X_assign_scaled))\n",
    "\n",
    "    return y_assign_pred\n",
    "\n",
    "y=salary_predictions()"
   ]
  },
  {
   "cell_type": "code",
   "execution_count": 4,
   "metadata": {},
   "outputs": [
    {
     "name": "stdout",
     "output_type": "stream",
     "text": [
      "Salary predictions:\n",
      "1     0.188365\n",
      "2     0.494295\n",
      "5     1.145811\n",
      "8     0.164430\n",
      "14    0.344260\n",
      "18    0.237219\n",
      "27    0.296099\n",
      "30    0.302561\n",
      "31    0.207467\n",
      "34    0.148646\n",
      "dtype: float64\n"
     ]
    }
   ],
   "source": [
    "print('Salary predictions:')\n",
    "print(y[:10])"
   ]
  },
  {
   "cell_type": "markdown",
   "metadata": {},
   "source": [
    "### Part B - New Connections Prediction\n",
    "\n",
    "For the last part, we predict future connections between employees of the network. The future connections information has been loaded into the variable `future_connections`. The index is a tuple indicating a pair of nodes that currently do not have a connection, and the `Future Connection` column indicates if an edge between those two nodes will exist in the future, where a value of 1.0 indicates a future connection."
   ]
  },
  {
   "cell_type": "code",
   "execution_count": 5,
   "metadata": {},
   "outputs": [
    {
     "data": {
      "text/html": [
       "<div>\n",
       "<style scoped>\n",
       "    .dataframe tbody tr th:only-of-type {\n",
       "        vertical-align: middle;\n",
       "    }\n",
       "\n",
       "    .dataframe tbody tr th {\n",
       "        vertical-align: top;\n",
       "    }\n",
       "\n",
       "    .dataframe thead th {\n",
       "        text-align: right;\n",
       "    }\n",
       "</style>\n",
       "<table border=\"1\" class=\"dataframe\">\n",
       "  <thead>\n",
       "    <tr style=\"text-align: right;\">\n",
       "      <th></th>\n",
       "      <th>Future Connection</th>\n",
       "    </tr>\n",
       "  </thead>\n",
       "  <tbody>\n",
       "    <tr>\n",
       "      <th>(6, 840)</th>\n",
       "      <td>0.0</td>\n",
       "    </tr>\n",
       "    <tr>\n",
       "      <th>(4, 197)</th>\n",
       "      <td>0.0</td>\n",
       "    </tr>\n",
       "    <tr>\n",
       "      <th>(620, 979)</th>\n",
       "      <td>0.0</td>\n",
       "    </tr>\n",
       "    <tr>\n",
       "      <th>(519, 872)</th>\n",
       "      <td>0.0</td>\n",
       "    </tr>\n",
       "    <tr>\n",
       "      <th>(382, 423)</th>\n",
       "      <td>0.0</td>\n",
       "    </tr>\n",
       "    <tr>\n",
       "      <th>(97, 226)</th>\n",
       "      <td>1.0</td>\n",
       "    </tr>\n",
       "    <tr>\n",
       "      <th>(349, 905)</th>\n",
       "      <td>0.0</td>\n",
       "    </tr>\n",
       "    <tr>\n",
       "      <th>(429, 860)</th>\n",
       "      <td>0.0</td>\n",
       "    </tr>\n",
       "    <tr>\n",
       "      <th>(309, 989)</th>\n",
       "      <td>0.0</td>\n",
       "    </tr>\n",
       "    <tr>\n",
       "      <th>(468, 880)</th>\n",
       "      <td>0.0</td>\n",
       "    </tr>\n",
       "  </tbody>\n",
       "</table>\n",
       "</div>"
      ],
      "text/plain": [
       "            Future Connection\n",
       "(6, 840)                  0.0\n",
       "(4, 197)                  0.0\n",
       "(620, 979)                0.0\n",
       "(519, 872)                0.0\n",
       "(382, 423)                0.0\n",
       "(97, 226)                 1.0\n",
       "(349, 905)                0.0\n",
       "(429, 860)                0.0\n",
       "(309, 989)                0.0\n",
       "(468, 880)                0.0"
      ]
     },
     "execution_count": 5,
     "metadata": {},
     "output_type": "execute_result"
    }
   ],
   "source": [
    "future_connections = pd.read_csv('Future_Connections.csv', index_col=0, converters={0: eval})\n",
    "future_connections.head(10)"
   ]
  },
  {
   "cell_type": "markdown",
   "metadata": {},
   "source": [
    "Using network `G` and `future_connections`, we identify the edges in `future_connections` with missing values and predict whether or not these edges will have a future connection.\n",
    "\n",
    "To accomplish this, we create a matrix of features for the edges found in `future_connections` using networkx, train a sklearn classifier on those edges in `future_connections` that have `Future Connection` data, and predict a probability of the edge being a future connection for those edges in `future_connections` where `Future Connection` is missing.\n",
    "\n",
    "\n",
    "\n",
    "The predictions are given as the probability of the corresponding edge being a future connection.\n",
    "\n",
    "The evaluation metric is the Area Under the ROC Curve (AUC). A model which with an AUC of 0.80 or higher is deemed satisfactory.\n",
    "\n",
    "Using the trained classifier, we return a series of length 122,112 with the data being the probability of the edge being a future connection, and the index being the edge as represented by a tuple of nodes.\n",
    "\n",
    "    Example:\n",
    "    \n",
    "        (107, 348)    0.35\n",
    "        (542, 751)    0.40\n",
    "        (20, 426)     0.55\n",
    "        (50, 989)     0.35\n",
    "                  ...\n",
    "        (939, 940)    0.15\n",
    "        (555, 905)    0.35\n",
    "        (75, 101)     0.65\n",
    "        Length: 122112, dtype: float64"
   ]
  },
  {
   "cell_type": "code",
   "execution_count": 6,
   "metadata": {},
   "outputs": [
    {
     "name": "stdout",
     "output_type": "stream",
     "text": [
      "Training set score: 90.4%\n"
     ]
    }
   ],
   "source": [
    "def new_connections_predictions():\n",
    "    \n",
    "    # import ML\n",
    "    from sklearn.linear_model import Lasso, Ridge\n",
    "    from sklearn.model_selection import GridSearchCV\n",
    "    from sklearn.model_selection import train_test_split\n",
    "    from sklearn.preprocessing import MinMaxScaler\n",
    "    from sklearn.metrics import roc_auc_score\n",
    "    \n",
    "    # Find the various indices for non-connected edges\n",
    "    # Jaccard Index\n",
    "    jai = [((e[0],e[1]),e[2]) for e in list(nx.jaccard_coefficient(G)) if (e[0], e[1]) in future_connections.index]\n",
    "\n",
    "    # Resource Allocation Index\n",
    "    rai = [((e[0],e[1]),e[2]) for e in list(nx.resource_allocation_index(G)) if (e[0], e[1]) in future_connections.index]\n",
    "\n",
    "    # Adamic Adar Index\n",
    "    aai = [((e[0],e[1]),e[2]) for e in list(nx.adamic_adar_index(G)) if (e[0], e[1]) in future_connections.index]\n",
    "\n",
    "    # Preferential Attachment\n",
    "    pai = [((e[0],e[1]),e[2]) for e in list(nx.preferential_attachment(G)) if (e[0], e[1]) in future_connections.index]\n",
    "\n",
    "    # Create a sorted version of future_connections\n",
    "    train_df = future_connections\n",
    "    train_df['Old Index Location'] = [i for i in range(len(future_connections))]\n",
    "    train_df = train_df.sort_index()\n",
    "\n",
    "    # Populate df with index values\n",
    "    train_df['jai'] = [e[1] for e in jai]\n",
    "    train_df['rai'] = [e[1] for e in rai]\n",
    "    train_df['aai'] = [e[1] for e in aai]\n",
    "    train_df['pai'] = [e[1] for e in pai]\n",
    "\n",
    "    # Remove the parts of the df that have null Future Connection values\n",
    "    nan_df     = train_df[ train_df['Future Connection'].isnull()]\n",
    "    non_nan_df = train_df[~train_df['Future Connection'].isnull()]\n",
    "\n",
    "    \n",
    "    # Get X,y\n",
    "    X = non_nan_df.drop('Future Connection',axis=1)\n",
    "    y = non_nan_df['Future Connection']\n",
    "\n",
    "    # Split the non-null into training and test sets\n",
    "    X_train, X_test, y_train, y_test = train_test_split(X, y, random_state=0)\n",
    "\n",
    "    # normalise\n",
    "    scaler = MinMaxScaler()\n",
    "    X_train_scaled = scaler.fit_transform(X_train)\n",
    "    X_test_scaled  = scaler.transform(X_test)\n",
    "\n",
    "    # create the ML model using ridge\n",
    "    rgr = Ridge()\n",
    "\n",
    "    # find the best regularisation value\n",
    "    param_grid = {'alpha':(0.2, 0.4, 0.6, 0.8, 1.0)}\n",
    "    grid_rgr = GridSearchCV(rgr,scoring='roc_auc',param_grid=param_grid)\n",
    "    grid_rgr.fit(X_train_scaled,y_train)\n",
    "    best_alpha = list(grid_rgr.best_params_.values())[0]\n",
    "    \n",
    "    \n",
    "    # fit the model\n",
    "    rgr = Ridge(alpha=best_alpha).fit(X_train_scaled,y_train)\n",
    "    \n",
    "    # calculate and report the score using the training set\n",
    "    y_pred = rgr.predict(X_test_scaled)\n",
    "    score = roc_auc_score(y_test,y_pred)\n",
    "    print('Training set score: {0:.1f}%'.format(100*score))\n",
    "    \n",
    "    \n",
    "    # create predictions using whole dataset\n",
    "    X_assign = nan_df.drop('Future Connection',axis=1)\n",
    "    X_assign_scaled = scaler.transform(X_assign)\n",
    "    y_assign_pred = pd.Series(index=nan_df.index,data=rgr.predict(X_assign_scaled))\n",
    "\n",
    "\n",
    "    guess_df = pd.DataFrame(index=nan_df.index)\n",
    "    guess_df['Old Index Location'] = nan_df['Old Index Location']\n",
    "    guess_df['Future Connection'] = y_assign_pred\n",
    "    \n",
    "    # return values to original indexing\n",
    "    guess_df['Index Tuple'] = nan_df.index\n",
    "    answer = guess_df.set_index('Old Index Location').sort_index().set_index('Index Tuple')['Future Connection']\n",
    "    \n",
    "    return pd.Series(answer)\n",
    "\n",
    "z=new_connections_predictions()"
   ]
  },
  {
   "cell_type": "code",
   "execution_count": 7,
   "metadata": {},
   "outputs": [
    {
     "name": "stdout",
     "output_type": "stream",
     "text": [
      "Likelihood of new connection:\n",
      "Index Tuple\n",
      "(107, 348)    0.075898\n",
      "(542, 751)   -0.004899\n",
      "(20, 426)     0.407092\n",
      "(50, 989)    -0.004247\n",
      "(942, 986)   -0.003549\n",
      "(324, 857)   -0.004337\n",
      "(13, 710)     0.247795\n",
      "(19, 271)     0.213620\n",
      "(319, 878)   -0.004022\n",
      "(659, 707)   -0.004832\n",
      "Name: Future Connection, dtype: float64\n"
     ]
    }
   ],
   "source": [
    "print('Likelihood of new connection:')\n",
    "print(z[:10])"
   ]
  }
 ],
 "metadata": {
  "coursera": {
   "course_slug": "python-social-network-analysis",
   "graded_item_id": "BGNwe",
   "launcher_item_id": "rMoj0",
   "part_id": "E2zRG"
  },
  "kernelspec": {
   "display_name": "Python 3",
   "language": "python",
   "name": "python3"
  },
  "language_info": {
   "codemirror_mode": {
    "name": "ipython",
    "version": 3
   },
   "file_extension": ".py",
   "mimetype": "text/x-python",
   "name": "python",
   "nbconvert_exporter": "python",
   "pygments_lexer": "ipython3",
   "version": "3.8.3"
  }
 },
 "nbformat": 4,
 "nbformat_minor": 2
}
